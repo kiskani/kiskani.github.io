{
 "cells": [
  {
   "cell_type": "code",
   "execution_count": 1,
   "metadata": {},
   "outputs": [],
   "source": [
    "import numpy as np\n",
    "import math \n",
    "import matplotlib.pyplot as plt"
   ]
  },
  {
   "cell_type": "markdown",
   "metadata": {},
   "source": [
    "Implementation of the gradient bandit. "
   ]
  },
  {
   "cell_type": "code",
   "execution_count": 9,
   "metadata": {},
   "outputs": [],
   "source": [
    "def get_rewards():\n",
    "    mean = np.array([-2, 1, 0, -3]) \n",
    "    return np.random.randn(4) + mean"
   ]
  },
  {
   "cell_type": "code",
   "execution_count": 10,
   "metadata": {},
   "outputs": [],
   "source": [
    "def softmax(H):\n",
    "    h = H - np.max(H)\n",
    "    exp = np.exp(h)\n",
    "    return exp / np.sum(exp)"
   ]
  },
  {
   "cell_type": "code",
   "execution_count": 11,
   "metadata": {},
   "outputs": [],
   "source": [
    "def gradient_bandit(N):\n",
    "    H = np.zeros(4)  \n",
    "    r_hist = []\n",
    "    alpha = 0.1  \n",
    "    for t in range(1, N):\n",
    "        policy = softmax(H) # policy pi\n",
    "        # sampling (choice) action by policy\n",
    "        a = np.random.choice(4, p=policy) \n",
    "        rewards = get_rewards()\n",
    "        r = rewards[a] # R_t (reward for chosen action)\n",
    "        r_hist.append(r)\n",
    "        avg_r = np.average(r_hist)\n",
    "        # update a == A_t (chosen action)\n",
    "        H[a] = H[a] + alpha*(r-avg_r)*(1-policy[a])\n",
    "        # update a != A_t (non-chosen action)\n",
    "        H[:a] = H[:a] - alpha*(r-avg_r)*policy[:a]\n",
    "        H[a+1:] = H[a+1:] - alpha*(r-avg_r)*policy[a+1:]\n",
    "    \n",
    "    return softmax(H), r_hist"
   ]
  },
  {
   "cell_type": "code",
   "execution_count": 20,
   "metadata": {},
   "outputs": [],
   "source": [
    "opt_policy, r_hist = gradient_bandit(100)"
   ]
  },
  {
   "cell_type": "code",
   "execution_count": 21,
   "metadata": {},
   "outputs": [
    {
     "data": {
      "text/plain": [
       "[<matplotlib.lines.Line2D at 0x11e1f1e10>]"
      ]
     },
     "execution_count": 21,
     "metadata": {},
     "output_type": "execute_result"
    },
    {
     "data": {
      "image/png": "[encoded data removed]",
      "text/plain": [
       "<Figure size 432x288 with 1 Axes>"
      ]
     },
     "metadata": {
      "needs_background": "light"
     },
     "output_type": "display_data"
    }
   ],
   "source": [
    "plt.plot(opt_policy, 'o')"
   ]
  },
  {
   "cell_type": "code",
   "execution_count": null,
   "metadata": {},
   "outputs": [],
   "source": []
  }
 ],
 "metadata": {
  "kernelspec": {
   "display_name": "Python 3",
   "language": "python",
   "name": "python3"
  },
  "language_info": {
   "codemirror_mode": {
    "name": "ipython",
    "version": 3
   },
   "file_extension": ".py",
   "mimetype": "text/x-python",
   "name": "python",
   "nbconvert_exporter": "python",
   "pygments_lexer": "ipython3",
   "version": "3.7.4"
  }
 },
 "nbformat": 4,
 "nbformat_minor": 2
}
