{
 "cells": [
  {
   "cell_type": "code",
   "execution_count": 1,
   "metadata": {},
   "outputs": [],
   "source": [
    "from pandas_datareader import data  # You will need to run \"pip install pandas_datareader\"\n",
    "import holidays   # You will need to run \"pip install holidays\"\n",
    "import datetime \n",
    "import numpy as np"
   ]
  },
  {
   "cell_type": "code",
   "execution_count": 2,
   "metadata": {},
   "outputs": [],
   "source": [
    "ONE_DAY = datetime.timedelta(days=1)\n",
    "HOLIDAYS_US = holidays.US()\n",
    "\n",
    "def previous_business_day(specific_date):\n",
    "    previous_day = specific_date - ONE_DAY\n",
    "    while previous_day.weekday() in holidays.WEEKEND or previous_day in HOLIDAYS_US:\n",
    "        previous_day -= ONE_DAY\n",
    "    return previous_day\n",
    "\n",
    "def next_business_day(specific_date):\n",
    "    next_day = specific_date + ONE_DAY\n",
    "    while next_day.weekday() in holidays.WEEKEND or next_day in HOLIDAYS_US:\n",
    "        next_day += ONE_DAY\n",
    "    return next_day"
   ]
  },
  {
   "cell_type": "code",
   "execution_count": 3,
   "metadata": {},
   "outputs": [],
   "source": [
    "def get_historical_data(share, start_date='2019-01-01', end_date='2020-01-01'):\n",
    "    panel_data = data.DataReader(share, 'yahoo', start_date, end_date)\n",
    "    return panel_data"
   ]
  },
  {
   "cell_type": "code",
   "execution_count": 4,
   "metadata": {},
   "outputs": [],
   "source": [
    "def compute_average_annual_return(share, start_date='2019-01-02', end_date='2020-01-02'):\n",
    "    panel_data = get_historical_data(share, start_date, end_date)\n",
    "    adj_close = panel_data['Adj Close']\n",
    "    \n",
    "    start_date = datetime.datetime.strptime(start_date, '%Y-%m-%d')\n",
    "    end_date = datetime.datetime.strptime(end_date, '%Y-%m-%d')\n",
    "    \n",
    "    while start_date.strftime('%Y-%m-%d') not in adj_close.index: \n",
    "        start_date = next_business_day(start_date)\n",
    "    \n",
    "    while end_date.strftime('%Y-%m-%d') not in adj_close.index: \n",
    "        end_date = previous_business_day(end_date)\n",
    "    \n",
    "    delta = end_date - start_date\n",
    "    years = delta.days / 365\n",
    "    \n",
    "    start_price = adj_close.loc[start_date.strftime('%Y-%m-%d')]\n",
    "    end_price = adj_close.loc[end_date.strftime('%Y-%m-%d')]\n",
    "    \n",
    "    return_value = (end_price/start_price)**(1/years) - 1\n",
    "    return round(return_value, 4), start_date, end_date, delta, years"
   ]
  },
  {
   "cell_type": "code",
   "execution_count": 5,
   "metadata": {},
   "outputs": [],
   "source": [
    "def compute_daily_return_std_per_year(share, start_date='2019-01-02', end_date='2020-01-02'):\n",
    "    panel_data = get_historical_data(share, start_date, end_date)\n",
    "    last_day_price = None\n",
    "    daily_returns = [] \n",
    "    for index, row in panel_data.iterrows():\n",
    "        if last_day_price:\n",
    "            daily_returns.append(row['Adj Close']/last_day_price - 1)\n",
    "        last_day_price = row['Adj Close']\n",
    "    return round(np.std(daily_returns)*np.sqrt(252), 4)"
   ]
  },
  {
   "cell_type": "code",
   "execution_count": 6,
   "metadata": {},
   "outputs": [],
   "source": [
    "def compute_sharpe(share, start_date='2019-01-02', end_date='2020-01-02'):\n",
    "    avg, _, _, _, _ = compute_average_annual_return(share, start_date, end_date)\n",
    "    std = compute_daily_return_std_per_year(share, start_date, end_date)\n",
    "    return round(avg/std, 4)"
   ]
  },
  {
   "cell_type": "code",
   "execution_count": 7,
   "metadata": {},
   "outputs": [
    {
     "data": {
      "text/plain": [
       "1.2718"
      ]
     },
     "execution_count": 7,
     "metadata": {},
     "output_type": "execute_result"
    }
   ],
   "source": [
    "compute_sharpe('GOOG')"
   ]
  },
  {
   "cell_type": "code",
   "execution_count": null,
   "metadata": {},
   "outputs": [],
   "source": []
  }
 ],
 "metadata": {
  "kernelspec": {
   "display_name": "Python 3",
   "language": "python",
   "name": "python3"
  },
  "language_info": {
   "codemirror_mode": {
    "name": "ipython",
    "version": 3
   },
   "file_extension": ".py",
   "mimetype": "text/x-python",
   "name": "python",
   "nbconvert_exporter": "python",
   "pygments_lexer": "ipython3",
   "version": "3.7.4"
  }
 },
 "nbformat": 4,
 "nbformat_minor": 2
}
